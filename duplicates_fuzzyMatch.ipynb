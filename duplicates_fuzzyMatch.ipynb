{
 "cells": [
  {
   "cell_type": "code",
   "execution_count": 1,
   "metadata": {},
   "outputs": [
    {
     "name": "stderr",
     "output_type": "stream",
     "text": [
      "c:\\Users\\AlbinTouma\\AppData\\Local\\Programs\\Python\\Python310\\lib\\site-packages\\fuzzywuzzy\\fuzz.py:11: UserWarning: Using slow pure-python SequenceMatcher. Install python-Levenshtein to remove this warning\n",
      "  warnings.warn('Using slow pure-python SequenceMatcher. Install python-Levenshtein to remove this warning')\n"
     ]
    }
   ],
   "source": [
    "import pandas as pd\n",
    "import numpy as np\n",
    "from fuzzywuzzy import fuzz"
   ]
  },
  {
   "attachments": {},
   "cell_type": "markdown",
   "metadata": {},
   "source": [
    "### The purpose of this documnet is to see if an entity is the same in companies and suppliers jsons and or if they are different. "
   ]
  },
  {
   "cell_type": "code",
   "execution_count": 13,
   "metadata": {},
   "outputs": [],
   "source": [
    "companies = pd.read_json('iranianentities.json')\n",
    "suppliers = pd.read_json('iranianSuppliers.json')\n"
   ]
  },
  {
   "cell_type": "code",
   "execution_count": 4,
   "metadata": {},
   "outputs": [],
   "source": [
    "is_sanctioned = []\n",
    "for item in suppliers['Entity']:\n",
    "    if item in companies['Entity']:\n",
    "        is_sanctioned.append(True)\n",
    "    else:\n",
    "        is_sanctioned.append(False)\n",
    "        "
   ]
  },
  {
   "cell_type": "code",
   "execution_count": 5,
   "metadata": {},
   "outputs": [
    {
     "data": {
      "text/plain": [
       "False    1.0\n",
       "Name: is_sanctioned, dtype: float64"
      ]
     },
     "execution_count": 5,
     "metadata": {},
     "output_type": "execute_result"
    }
   ],
   "source": [
    "suppliers['is_sanctioned'] = is_sanctioned\n",
    "suppliers['is_sanctioned'].value_counts()/len(suppliers)"
   ]
  },
  {
   "cell_type": "code",
   "execution_count": 123,
   "metadata": {},
   "outputs": [
    {
     "ename": "KeyboardInterrupt",
     "evalue": "",
     "output_type": "error",
     "traceback": [
      "\u001b[1;31m---------------------------------------------------------------------------\u001b[0m",
      "\u001b[1;31mKeyboardInterrupt\u001b[0m                         Traceback (most recent call last)",
      "\u001b[1;32mc:\\Users\\AlbinTouma\\python_projects\\Iranwatch\\join.ipynb Cell 6\u001b[0m in \u001b[0;36m<cell line: 2>\u001b[1;34m()\u001b[0m\n\u001b[0;32m      <a href='vscode-notebook-cell:/c%3A/Users/AlbinTouma/python_projects/Iranwatch/join.ipynb#W6sZmlsZQ%3D%3D?line=3'>4</a>\u001b[0m highest_ratio \u001b[39m=\u001b[39m \u001b[39m0\u001b[39m\n\u001b[0;32m      <a href='vscode-notebook-cell:/c%3A/Users/AlbinTouma/python_projects/Iranwatch/join.ipynb#W6sZmlsZQ%3D%3D?line=4'>5</a>\u001b[0m \u001b[39mfor\u001b[39;00m item2 \u001b[39min\u001b[39;00m companies[\u001b[39m'\u001b[39m\u001b[39mEntity\u001b[39m\u001b[39m'\u001b[39m]:\n\u001b[1;32m----> <a href='vscode-notebook-cell:/c%3A/Users/AlbinTouma/python_projects/Iranwatch/join.ipynb#W6sZmlsZQ%3D%3D?line=5'>6</a>\u001b[0m     ratio \u001b[39m=\u001b[39m fuzz\u001b[39m.\u001b[39;49mpartial_ratio(item1, item2)\n\u001b[0;32m      <a href='vscode-notebook-cell:/c%3A/Users/AlbinTouma/python_projects/Iranwatch/join.ipynb#W6sZmlsZQ%3D%3D?line=6'>7</a>\u001b[0m     \u001b[39mif\u001b[39;00m ratio \u001b[39m>\u001b[39m highest_ratio \u001b[39mand\u001b[39;00m ratio \u001b[39m>\u001b[39m\u001b[39m=\u001b[39m\u001b[39m95\u001b[39m: \u001b[39m#When ratio isn't set then best match with similarity ratio of 92 is DES International Co Ltd and MKS International Co. Ltd. \u001b[39;00m\n\u001b[0;32m      <a href='vscode-notebook-cell:/c%3A/Users/AlbinTouma/python_projects/Iranwatch/join.ipynb#W6sZmlsZQ%3D%3D?line=7'>8</a>\u001b[0m         highest_ratio \u001b[39m=\u001b[39m ratio\n",
      "File \u001b[1;32mc:\\Users\\AlbinTouma\\AppData\\Local\\Programs\\Python\\Python310\\lib\\site-packages\\fuzzywuzzy\\utils.py:38\u001b[0m, in \u001b[0;36mcheck_for_none.<locals>.decorator\u001b[1;34m(*args, **kwargs)\u001b[0m\n\u001b[0;32m     36\u001b[0m \u001b[39mif\u001b[39;00m args[\u001b[39m0\u001b[39m] \u001b[39mis\u001b[39;00m \u001b[39mNone\u001b[39;00m \u001b[39mor\u001b[39;00m args[\u001b[39m1\u001b[39m] \u001b[39mis\u001b[39;00m \u001b[39mNone\u001b[39;00m:\n\u001b[0;32m     37\u001b[0m     \u001b[39mreturn\u001b[39;00m \u001b[39m0\u001b[39m\n\u001b[1;32m---> 38\u001b[0m \u001b[39mreturn\u001b[39;00m func(\u001b[39m*\u001b[39margs, \u001b[39m*\u001b[39m\u001b[39m*\u001b[39mkwargs)\n",
      "File \u001b[1;32mc:\\Users\\AlbinTouma\\AppData\\Local\\Programs\\Python\\Python310\\lib\\site-packages\\fuzzywuzzy\\utils.py:29\u001b[0m, in \u001b[0;36mcheck_for_equivalence.<locals>.decorator\u001b[1;34m(*args, **kwargs)\u001b[0m\n\u001b[0;32m     27\u001b[0m \u001b[39mif\u001b[39;00m args[\u001b[39m0\u001b[39m] \u001b[39m==\u001b[39m args[\u001b[39m1\u001b[39m]:\n\u001b[0;32m     28\u001b[0m     \u001b[39mreturn\u001b[39;00m \u001b[39m100\u001b[39m\n\u001b[1;32m---> 29\u001b[0m \u001b[39mreturn\u001b[39;00m func(\u001b[39m*\u001b[39margs, \u001b[39m*\u001b[39m\u001b[39m*\u001b[39mkwargs)\n",
      "File \u001b[1;32mc:\\Users\\AlbinTouma\\AppData\\Local\\Programs\\Python\\Python310\\lib\\site-packages\\fuzzywuzzy\\utils.py:47\u001b[0m, in \u001b[0;36mcheck_empty_string.<locals>.decorator\u001b[1;34m(*args, **kwargs)\u001b[0m\n\u001b[0;32m     45\u001b[0m \u001b[39mif\u001b[39;00m \u001b[39mlen\u001b[39m(args[\u001b[39m0\u001b[39m]) \u001b[39m==\u001b[39m \u001b[39m0\u001b[39m \u001b[39mor\u001b[39;00m \u001b[39mlen\u001b[39m(args[\u001b[39m1\u001b[39m]) \u001b[39m==\u001b[39m \u001b[39m0\u001b[39m:\n\u001b[0;32m     46\u001b[0m     \u001b[39mreturn\u001b[39;00m \u001b[39m0\u001b[39m\n\u001b[1;32m---> 47\u001b[0m \u001b[39mreturn\u001b[39;00m func(\u001b[39m*\u001b[39margs, \u001b[39m*\u001b[39m\u001b[39m*\u001b[39mkwargs)\n",
      "File \u001b[1;32mc:\\Users\\AlbinTouma\\AppData\\Local\\Programs\\Python\\Python310\\lib\\site-packages\\fuzzywuzzy\\fuzz.py:62\u001b[0m, in \u001b[0;36mpartial_ratio\u001b[1;34m(s1, s2)\u001b[0m\n\u001b[0;32m     59\u001b[0m long_substr \u001b[39m=\u001b[39m longer[long_start:long_end]\n\u001b[0;32m     61\u001b[0m m2 \u001b[39m=\u001b[39m SequenceMatcher(\u001b[39mNone\u001b[39;00m, shorter, long_substr)\n\u001b[1;32m---> 62\u001b[0m r \u001b[39m=\u001b[39m m2\u001b[39m.\u001b[39;49mratio()\n\u001b[0;32m     63\u001b[0m \u001b[39mif\u001b[39;00m r \u001b[39m>\u001b[39m \u001b[39m.995\u001b[39m:\n\u001b[0;32m     64\u001b[0m     \u001b[39mreturn\u001b[39;00m \u001b[39m100\u001b[39m\n",
      "File \u001b[1;32mc:\\Users\\AlbinTouma\\AppData\\Local\\Programs\\Python\\Python310\\lib\\difflib.py:619\u001b[0m, in \u001b[0;36mSequenceMatcher.ratio\u001b[1;34m(self)\u001b[0m\n\u001b[0;32m    597\u001b[0m \u001b[39mdef\u001b[39;00m \u001b[39mratio\u001b[39m(\u001b[39mself\u001b[39m):\n\u001b[0;32m    598\u001b[0m     \u001b[39m\"\"\"Return a measure of the sequences' similarity (float in [0,1]).\u001b[39;00m\n\u001b[0;32m    599\u001b[0m \n\u001b[0;32m    600\u001b[0m \u001b[39m    Where T is the total number of elements in both sequences, and\u001b[39;00m\n\u001b[1;32m   (...)\u001b[0m\n\u001b[0;32m    616\u001b[0m \u001b[39m    1.0\u001b[39;00m\n\u001b[0;32m    617\u001b[0m \u001b[39m    \"\"\"\u001b[39;00m\n\u001b[1;32m--> 619\u001b[0m     matches \u001b[39m=\u001b[39m \u001b[39msum\u001b[39m(triple[\u001b[39m-\u001b[39m\u001b[39m1\u001b[39m] \u001b[39mfor\u001b[39;00m triple \u001b[39min\u001b[39;00m \u001b[39mself\u001b[39;49m\u001b[39m.\u001b[39;49mget_matching_blocks())\n\u001b[0;32m    620\u001b[0m     \u001b[39mreturn\u001b[39;00m _calculate_ratio(matches, \u001b[39mlen\u001b[39m(\u001b[39mself\u001b[39m\u001b[39m.\u001b[39ma) \u001b[39m+\u001b[39m \u001b[39mlen\u001b[39m(\u001b[39mself\u001b[39m\u001b[39m.\u001b[39mb))\n",
      "File \u001b[1;32mc:\\Users\\AlbinTouma\\AppData\\Local\\Programs\\Python\\Python310\\lib\\difflib.py:454\u001b[0m, in \u001b[0;36mSequenceMatcher.get_matching_blocks\u001b[1;34m(self)\u001b[0m\n\u001b[0;32m    452\u001b[0m \u001b[39mwhile\u001b[39;00m queue:\n\u001b[0;32m    453\u001b[0m     alo, ahi, blo, bhi \u001b[39m=\u001b[39m queue\u001b[39m.\u001b[39mpop()\n\u001b[1;32m--> 454\u001b[0m     i, j, k \u001b[39m=\u001b[39m x \u001b[39m=\u001b[39m \u001b[39mself\u001b[39;49m\u001b[39m.\u001b[39;49mfind_longest_match(alo, ahi, blo, bhi)\n\u001b[0;32m    455\u001b[0m     \u001b[39m# a[alo:i] vs b[blo:j] unknown\u001b[39;00m\n\u001b[0;32m    456\u001b[0m     \u001b[39m# a[i:i+k] same as b[j:j+k]\u001b[39;00m\n\u001b[0;32m    457\u001b[0m     \u001b[39m# a[i+k:ahi] vs b[j+k:bhi] unknown\u001b[39;00m\n\u001b[0;32m    458\u001b[0m     \u001b[39mif\u001b[39;00m k:   \u001b[39m# if k is 0, there was no matching block\u001b[39;00m\n",
      "File \u001b[1;32mc:\\Users\\AlbinTouma\\AppData\\Local\\Programs\\Python\\Python310\\lib\\difflib.py:414\u001b[0m, in \u001b[0;36mSequenceMatcher.find_longest_match\u001b[1;34m(self, alo, ahi, blo, bhi)\u001b[0m\n\u001b[0;32m    410\u001b[0m \u001b[39mwhile\u001b[39;00m besti \u001b[39m>\u001b[39m alo \u001b[39mand\u001b[39;00m bestj \u001b[39m>\u001b[39m blo \u001b[39mand\u001b[39;00m \\\n\u001b[0;32m    411\u001b[0m       isbjunk(b[bestj\u001b[39m-\u001b[39m\u001b[39m1\u001b[39m]) \u001b[39mand\u001b[39;00m \\\n\u001b[0;32m    412\u001b[0m       a[besti\u001b[39m-\u001b[39m\u001b[39m1\u001b[39m] \u001b[39m==\u001b[39m b[bestj\u001b[39m-\u001b[39m\u001b[39m1\u001b[39m]:\n\u001b[0;32m    413\u001b[0m     besti, bestj, bestsize \u001b[39m=\u001b[39m besti\u001b[39m-\u001b[39m\u001b[39m1\u001b[39m, bestj\u001b[39m-\u001b[39m\u001b[39m1\u001b[39m, bestsize\u001b[39m+\u001b[39m\u001b[39m1\u001b[39m\n\u001b[1;32m--> 414\u001b[0m \u001b[39mwhile\u001b[39;00m besti\u001b[39m+\u001b[39mbestsize \u001b[39m<\u001b[39m ahi \u001b[39mand\u001b[39;00m bestj\u001b[39m+\u001b[39mbestsize \u001b[39m<\u001b[39m bhi \u001b[39mand\u001b[39;00m \\\n\u001b[0;32m    415\u001b[0m       isbjunk(b[bestj\u001b[39m+\u001b[39mbestsize]) \u001b[39mand\u001b[39;00m \\\n\u001b[0;32m    416\u001b[0m       a[besti\u001b[39m+\u001b[39mbestsize] \u001b[39m==\u001b[39m b[bestj\u001b[39m+\u001b[39mbestsize]:\n\u001b[0;32m    417\u001b[0m     bestsize \u001b[39m=\u001b[39m bestsize \u001b[39m+\u001b[39m \u001b[39m1\u001b[39m\n\u001b[0;32m    419\u001b[0m \u001b[39mreturn\u001b[39;00m Match(besti, bestj, bestsize)\n",
      "\u001b[1;31mKeyboardInterrupt\u001b[0m: "
     ]
    }
   ],
   "source": [
    "similarity = []\n",
    "for item1 in suppliers['Entity']:\n",
    "    best_match = None\n",
    "    highest_ratio = 0\n",
    "    for item2 in companies['Entity']:\n",
    "        ratio = fuzz.partial_ratio(item1, item2)\n",
    "        if ratio > highest_ratio and ratio >=95: #When ratio isn't set then best match with similarity ratio of 92 is DES International Co Ltd and MKS International Co. Ltd. \n",
    "            highest_ratio = ratio\n",
    "            best_match = item2\n",
    "    similarity.append({'Supplier': item1, 'best_match': best_match, 'Similarity Ratio': highest_ratio})\n",
    "    similarityTable = pd.DataFrame(similarity)\n",
    "    similarityTable"
   ]
  },
  {
   "cell_type": "code",
   "execution_count": null,
   "metadata": {},
   "outputs": [],
   "source": [
    "similarityTable = similarityTable.sort_values('Similarity Ratio', ascending=False)\n",
    "similarityTable.to_csv('similarityRatio.csv')"
   ]
  },
  {
   "cell_type": "code",
   "execution_count": null,
   "metadata": {},
   "outputs": [
    {
     "data": {
      "text/html": [
       "<div>\n",
       "<style scoped>\n",
       "    .dataframe tbody tr th:only-of-type {\n",
       "        vertical-align: middle;\n",
       "    }\n",
       "\n",
       "    .dataframe tbody tr th {\n",
       "        vertical-align: top;\n",
       "    }\n",
       "\n",
       "    .dataframe thead th {\n",
       "        text-align: right;\n",
       "    }\n",
       "</style>\n",
       "<table border=\"1\" class=\"dataframe\">\n",
       "  <thead>\n",
       "    <tr style=\"text-align: right;\">\n",
       "      <th></th>\n",
       "      <th>Supplier</th>\n",
       "      <th>best_match</th>\n",
       "      <th>Similarity Ratio</th>\n",
       "    </tr>\n",
       "  </thead>\n",
       "  <tbody>\n",
       "    <tr>\n",
       "      <th>0</th>\n",
       "      <td>Abascience Tech Co. Ltd.</td>\n",
       "      <td>None</td>\n",
       "      <td>0</td>\n",
       "    </tr>\n",
       "    <tr>\n",
       "      <th>248</th>\n",
       "      <td>Rick's Manufacturing</td>\n",
       "      <td>None</td>\n",
       "      <td>0</td>\n",
       "    </tr>\n",
       "    <tr>\n",
       "      <th>257</th>\n",
       "      <td>Ryu Yon Chol</td>\n",
       "      <td>None</td>\n",
       "      <td>0</td>\n",
       "    </tr>\n",
       "    <tr>\n",
       "      <th>256</th>\n",
       "      <td>Ruan Runling</td>\n",
       "      <td>None</td>\n",
       "      <td>0</td>\n",
       "    </tr>\n",
       "    <tr>\n",
       "      <th>255</th>\n",
       "      <td>RPP Limited Liability Company</td>\n",
       "      <td>None</td>\n",
       "      <td>0</td>\n",
       "    </tr>\n",
       "    <tr>\n",
       "      <th>...</th>\n",
       "      <td>...</td>\n",
       "      <td>...</td>\n",
       "      <td>...</td>\n",
       "    </tr>\n",
       "    <tr>\n",
       "      <th>124</th>\n",
       "      <td>Halkbank</td>\n",
       "      <td>None</td>\n",
       "      <td>0</td>\n",
       "    </tr>\n",
       "    <tr>\n",
       "      <th>123</th>\n",
       "      <td>Ha Chong Kuk</td>\n",
       "      <td>None</td>\n",
       "      <td>0</td>\n",
       "    </tr>\n",
       "    <tr>\n",
       "      <th>122</th>\n",
       "      <td>Green Wave Telecommunication, Sdn Bhn</td>\n",
       "      <td>None</td>\n",
       "      <td>0</td>\n",
       "    </tr>\n",
       "    <tr>\n",
       "      <th>121</th>\n",
       "      <td>Great Wall Airlines</td>\n",
       "      <td>None</td>\n",
       "      <td>0</td>\n",
       "    </tr>\n",
       "    <tr>\n",
       "      <th>376</th>\n",
       "      <td>ROV Solutions</td>\n",
       "      <td>None</td>\n",
       "      <td>0</td>\n",
       "    </tr>\n",
       "  </tbody>\n",
       "</table>\n",
       "<p>377 rows × 3 columns</p>\n",
       "</div>"
      ],
      "text/plain": [
       "                                  Supplier best_match  Similarity Ratio\n",
       "0                 Abascience Tech Co. Ltd.       None                 0\n",
       "248                   Rick's Manufacturing       None                 0\n",
       "257                           Ryu Yon Chol       None                 0\n",
       "256                           Ruan Runling       None                 0\n",
       "255          RPP Limited Liability Company       None                 0\n",
       "..                                     ...        ...               ...\n",
       "124                               Halkbank       None                 0\n",
       "123                           Ha Chong Kuk       None                 0\n",
       "122  Green Wave Telecommunication, Sdn Bhn       None                 0\n",
       "121                    Great Wall Airlines       None                 0\n",
       "376                          ROV Solutions       None                 0\n",
       "\n",
       "[377 rows x 3 columns]"
      ]
     },
     "execution_count": 60,
     "metadata": {},
     "output_type": "execute_result"
    }
   ],
   "source": [
    "similarityTable"
   ]
  },
  {
   "cell_type": "code",
   "execution_count": null,
   "metadata": {},
   "outputs": [],
   "source": [
    "similarity2 = []\n",
    "for item1 in companies['Entity']:\n",
    "    best_match = None\n",
    "    highest_ratio = 0\n",
    "    for item2 in suppliers['Entity']:\n",
    "        ratio = fuzz.partial_ratio(item1, item2)\n",
    "        if ratio > highest_ratio and ratio >=95: #When ratio isn't set then best match with similarity ratio of 92 is DES International Co Ltd and MKS International Co. Ltd. \n",
    "            highest_ratio = ratio\n",
    "            best_match = item2\n",
    "    similarity2.append({'Supplier': item1, 'best_match': best_match, 'Similarity Ratio': highest_ratio})\n",
    "    similarityTable2 = pd.DataFrame(similarity2)\n",
    "    "
   ]
  },
  {
   "cell_type": "code",
   "execution_count": null,
   "metadata": {},
   "outputs": [],
   "source": [
    "similarityTable2 = similarityTable2.sort_values('Similarity Ratio', ascending=False)\n",
    "similarityTable.to_csv('similarityRatio2.csv')\n"
   ]
  },
  {
   "cell_type": "code",
   "execution_count": 6,
   "metadata": {},
   "outputs": [],
   "source": [
    "merged = pd.concat([companies, suppliers])\n",
    "merged['is_sanctioned'] = merged['is_sanctioned'].fillna(True)\n",
    "\n",
    "merged['unique_id'] = merged.reset_index(drop=False).index + 1\n",
    "merged = merged[['unique_id', 'Entity', 'Address', 'phone_number', 'company_website', 'Country', 'Weapon Program', 'Suspected Links', 'Information', 'Created', 'Last_updated', 'profile_picture', 'is_sanctioned']]\n",
    "\n",
    "\n",
    "merged.to_json('combined.json', orient='records', indent=4)"
   ]
  },
  {
   "attachments": {},
   "cell_type": "markdown",
   "metadata": {},
   "source": [
    "# Duplicates in Data"
   ]
  },
  {
   "cell_type": "markdown",
   "metadata": {},
   "source": [
    "h1 - Duplicates in data come from the \"Featured Suppliers\" on the sidebar of the alphabetical list. The scraper includes these\n",
    "h1 Fails to explain why Iranian Space Agency on p36 of entities isn't a duplicate. Could be a cadence thing if website updates the duplicates change? \n",
    "\n",
    "1. Kamran Daneshju is legitimately 2 profiles\n",
    "2. I think if I reran scraper the new duplicates would be Iranian Space Agency and Materials and Energy Reserach Insttute\n",
    "    ii. This is the case. Duplicates updated to Iranian Space Agency after scraper on entities run again. "
   ]
  },
  {
   "cell_type": "code",
   "execution_count": 8,
   "metadata": {},
   "outputs": [
    {
     "data": {
      "text/html": [
       "<div>\n",
       "<style scoped>\n",
       "    .dataframe tbody tr th:only-of-type {\n",
       "        vertical-align: middle;\n",
       "    }\n",
       "\n",
       "    .dataframe tbody tr th {\n",
       "        vertical-align: top;\n",
       "    }\n",
       "\n",
       "    .dataframe thead th {\n",
       "        text-align: right;\n",
       "    }\n",
       "</style>\n",
       "<table border=\"1\" class=\"dataframe\">\n",
       "  <thead>\n",
       "    <tr style=\"text-align: right;\">\n",
       "      <th></th>\n",
       "      <th>Entities</th>\n",
       "      <th>Suppliers</th>\n",
       "    </tr>\n",
       "  </thead>\n",
       "  <tbody>\n",
       "    <tr>\n",
       "      <th>Iranian Space Agency</th>\n",
       "      <td>39.0</td>\n",
       "      <td>NaN</td>\n",
       "    </tr>\n",
       "    <tr>\n",
       "      <th>Materials and Energy Research Institute</th>\n",
       "      <td>39.0</td>\n",
       "      <td>NaN</td>\n",
       "    </tr>\n",
       "    <tr>\n",
       "      <th>Kamran Daneshju</th>\n",
       "      <td>2.0</td>\n",
       "      <td>NaN</td>\n",
       "    </tr>\n",
       "    <tr>\n",
       "      <th>Beijing MicroPilot UAV Flight Control Systems</th>\n",
       "      <td>NaN</td>\n",
       "      <td>8.0</td>\n",
       "    </tr>\n",
       "    <tr>\n",
       "      <th>ROV Solutions</th>\n",
       "      <td>NaN</td>\n",
       "      <td>7.0</td>\n",
       "    </tr>\n",
       "  </tbody>\n",
       "</table>\n",
       "</div>"
      ],
      "text/plain": [
       "                                               Entities  Suppliers\n",
       "Iranian Space Agency                               39.0        NaN\n",
       "Materials and Energy Research Institute            39.0        NaN\n",
       "Kamran Daneshju                                     2.0        NaN\n",
       "Beijing MicroPilot UAV Flight Control Systems       NaN        8.0\n",
       "ROV Solutions                                       NaN        7.0"
      ]
     },
     "execution_count": 8,
     "metadata": {},
     "output_type": "execute_result"
    }
   ],
   "source": [
    "#There are 11 duplicates\n",
    "mask = merged.duplicated(subset=['Entity'], keep=False)\n",
    "duplicates = merged[mask]\n",
    "duplicates = duplicates.sort_values(ascending=True, by=['Entity'])\n",
    "duplicates['is_sanctioned'].value_counts() #80 Duplicates in Iranian Entities and 78 duplicates in Supply\n",
    "duplicates['Entity'].value_counts() #Beijin MicroPilot UAV Flight Contorl Systems, Oje Parvaz, Paravar Pars, ROV appear 39 times each. My suspicion is that the scraper still pulls in sidebar for each serach. \n",
    "duplicates['Entity'].value_counts()\n",
    "duplicate_entities = duplicates[duplicates['is_sanctioned'] == True]\n",
    "duplicate_suppliers = duplicates[duplicates['is_sanctioned'] == False]\n",
    "duplicate_suppliers = duplicate_suppliers['Entity'].value_counts()\n",
    "duplicate_entities = duplicate_entities['Entity'].value_counts()\n",
    "\n",
    "duplicate = pd.concat([duplicate_entities, duplicate_suppliers], axis=1)\n",
    "duplicate.columns = ['Entities', 'Suppliers'] \n",
    "duplicate"
   ]
  }
 ],
 "metadata": {
  "kernelspec": {
   "display_name": "env",
   "language": "python",
   "name": "python3"
  },
  "language_info": {
   "codemirror_mode": {
    "name": "ipython",
    "version": 3
   },
   "file_extension": ".py",
   "mimetype": "text/x-python",
   "name": "python",
   "nbconvert_exporter": "python",
   "pygments_lexer": "ipython3",
   "version": "3.10.7"
  },
  "orig_nbformat": 4
 },
 "nbformat": 4,
 "nbformat_minor": 2
}
