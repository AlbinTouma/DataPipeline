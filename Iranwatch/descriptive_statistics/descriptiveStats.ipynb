{
 "cells": [
  {
   "attachments": {},
   "cell_type": "markdown",
   "metadata": {},
   "source": [
    "# Iranian Entities\n",
    "### Descriptive statistics\n",
    "\n",
    "This notebook provides an overview of the Iranian entities. The notebook is divided into three parts:\n",
    "\n",
    "> Fill rates\n",
    "1. How many entities have been scraped\n",
    "2. What are the fill rates in each field? \n",
    "3. Which fields are empty\n",
    "\n",
    "> Data Cleaning\n",
    "1. Which fields need to be parsed? \n",
    "2. Is it easy to parse the fields and how? \n",
    "\n",
    "> Statistics\n",
    "1. What is the average number of linked entities? \n",
    "2. In which country are entities mainly located? \n",
    "\n",
    ">Conclusion\n",
    "- Take aways\n",
    "- Action items"
   ]
  },
  {
   "attachments": {},
   "cell_type": "markdown",
   "metadata": {},
   "source": [
    "# Libraries"
   ]
  },
  {
   "cell_type": "code",
   "execution_count": 1,
   "metadata": {},
   "outputs": [],
   "source": [
    "import pandas as pd\n",
    "import numpy as np\n",
    "import matplotlib.pyplot as plt\n",
    "df = pd.read_json('iranianentities.json')"
   ]
  },
  {
   "attachments": {},
   "cell_type": "markdown",
   "metadata": {},
   "source": [
    "# Part 1: Fill rates\n",
    "\n",
    "> Descriptive Stats\n",
    "\n",
    "- There are 988 entries and 921 unique company profiles. \n",
    "- 615 companies have a unique address. <br>\n",
    "`Hyptothesis  1` - Companies that share a unique address are likely values where only country is present or the address field is empty\n",
    " "
   ]
  },
  {
   "cell_type": "code",
   "execution_count": 2,
   "metadata": {},
   "outputs": [
    {
     "data": {
      "text/html": [
       "<div>\n",
       "<style scoped>\n",
       "    .dataframe tbody tr th:only-of-type {\n",
       "        vertical-align: middle;\n",
       "    }\n",
       "\n",
       "    .dataframe tbody tr th {\n",
       "        vertical-align: top;\n",
       "    }\n",
       "\n",
       "    .dataframe thead th {\n",
       "        text-align: right;\n",
       "    }\n",
       "</style>\n",
       "<table border=\"1\" class=\"dataframe\">\n",
       "  <thead>\n",
       "    <tr style=\"text-align: right;\">\n",
       "      <th></th>\n",
       "      <th>Entity</th>\n",
       "      <th>Address</th>\n",
       "      <th>phone_number</th>\n",
       "      <th>company_website</th>\n",
       "      <th>Country</th>\n",
       "      <th>Weapon Program</th>\n",
       "      <th>Suspected Links</th>\n",
       "      <th>Information</th>\n",
       "      <th>Created</th>\n",
       "      <th>Last_updated</th>\n",
       "      <th>profile_picture</th>\n",
       "    </tr>\n",
       "  </thead>\n",
       "  <tbody>\n",
       "    <tr>\n",
       "      <th>count</th>\n",
       "      <td>1000</td>\n",
       "      <td>1000</td>\n",
       "      <td>1000</td>\n",
       "      <td>1000</td>\n",
       "      <td>1000</td>\n",
       "      <td>1000</td>\n",
       "      <td>1000</td>\n",
       "      <td>1000</td>\n",
       "      <td>1000</td>\n",
       "      <td>1000</td>\n",
       "      <td>1000</td>\n",
       "    </tr>\n",
       "    <tr>\n",
       "      <th>unique</th>\n",
       "      <td>923</td>\n",
       "      <td>617</td>\n",
       "      <td>32</td>\n",
       "      <td>279</td>\n",
       "      <td>48</td>\n",
       "      <td>23</td>\n",
       "      <td>412</td>\n",
       "      <td>893</td>\n",
       "      <td>173</td>\n",
       "      <td>245</td>\n",
       "      <td>255</td>\n",
       "    </tr>\n",
       "    <tr>\n",
       "      <th>top</th>\n",
       "      <td>Iranian Space Agency</td>\n",
       "      <td></td>\n",
       "      <td></td>\n",
       "      <td></td>\n",
       "      <td></td>\n",
       "      <td>Military</td>\n",
       "      <td>[]</td>\n",
       "      <td>Oversees Iran's space-related initiatives; car...</td>\n",
       "      <td>January 26, 2004</td>\n",
       "      <td>January 16, 2016</td>\n",
       "      <td></td>\n",
       "    </tr>\n",
       "    <tr>\n",
       "      <th>freq</th>\n",
       "      <td>39</td>\n",
       "      <td>142</td>\n",
       "      <td>637</td>\n",
       "      <td>645</td>\n",
       "      <td>879</td>\n",
       "      <td>326</td>\n",
       "      <td>295</td>\n",
       "      <td>39</td>\n",
       "      <td>153</td>\n",
       "      <td>99</td>\n",
       "      <td>670</td>\n",
       "    </tr>\n",
       "  </tbody>\n",
       "</table>\n",
       "</div>"
      ],
      "text/plain": [
       "                      Entity Address phone_number company_website Country  \\\n",
       "count                   1000    1000         1000            1000    1000   \n",
       "unique                   923     617           32             279      48   \n",
       "top     Iranian Space Agency                                                \n",
       "freq                      39     142          637             645     879   \n",
       "\n",
       "       Weapon Program Suspected Links  \\\n",
       "count            1000            1000   \n",
       "unique             23             412   \n",
       "top          Military              []   \n",
       "freq              326             295   \n",
       "\n",
       "                                              Information           Created  \\\n",
       "count                                                1000              1000   \n",
       "unique                                                893               173   \n",
       "top     Oversees Iran's space-related initiatives; car...  January 26, 2004   \n",
       "freq                                                   39               153   \n",
       "\n",
       "            Last_updated profile_picture  \n",
       "count               1000            1000  \n",
       "unique               245             255  \n",
       "top     January 16, 2016                  \n",
       "freq                  99             670  "
      ]
     },
     "execution_count": 2,
     "metadata": {},
     "output_type": "execute_result"
    }
   ],
   "source": [
    "df.describe() "
   ]
  },
  {
   "attachments": {},
   "cell_type": "markdown",
   "metadata": {},
   "source": [
    "# Data Cleaning\n",
    "\n",
    "> Deal with Empty String Values\n",
    "- Replace empty strings in `Country field` with N/A"
   ]
  },
  {
   "cell_type": "code",
   "execution_count": 3,
   "metadata": {},
   "outputs": [],
   "source": [
    "my_list = df['Country']\n",
    "for i in range(len(my_list)): \n",
    "    if my_list[i] == '':\n",
    "        my_list[i] = 'NA'"
   ]
  },
  {
   "attachments": {},
   "cell_type": "markdown",
   "metadata": {},
   "source": [
    "# Statistical Analysis"
   ]
  },
  {
   "attachments": {},
   "cell_type": "markdown",
   "metadata": {},
   "source": [
    "## Distribution of linked entities\n",
    "\n",
    "> \"An entitity is on average linked to 2.4 other entities. The highest number of links is 22 and the lowest number is 1. There are 296 entities without any links\"\n",
    "\n",
    "1. Count the number of linked entities and add the results in a column"
   ]
  },
  {
   "cell_type": "code",
   "execution_count": 4,
   "metadata": {},
   "outputs": [],
   "source": [
    "item_counts = []\n",
    "for row in df['Suspected Links']:\n",
    "    item_counts.append(len([item for item in row if item]))\n",
    "df['Number of Suspected Entities'] = item_counts\n"
   ]
  },
  {
   "attachments": {},
   "cell_type": "markdown",
   "metadata": {},
   "source": [
    "3. Split the linked entity counts into bins and count number of entities with 0 links\n",
    "4. Calculate the mean number of suspected entites\n",
    "5. Take the standard deviation and the mean and plot on a graph with plt.plot()\n"
   ]
  },
  {
   "cell_type": "code",
   "execution_count": 5,
   "metadata": {},
   "outputs": [],
   "source": [
    "bins = pd.cut(df['Number of Suspected Entities'], bins=[1,2, 4, 6, 8, 12, 14, 16, 18, 20, 22])\n",
    "counts = bins.value_counts()\n",
    "number_nulls = len(df[df['Number of Suspected Entities'] == 0]) #count number of entities with 0 links. "
   ]
  },
  {
   "cell_type": "code",
   "execution_count": 6,
   "metadata": {},
   "outputs": [
    {
     "data": {
      "image/png": "[encoded data removed]",
      "text/plain": [
       "<Figure size 432x288 with 1 Axes>"
      ]
     },
     "metadata": {
      "needs_background": "light"
     },
     "output_type": "display_data"
    }
   ],
   "source": [
    "number_suspects = df['Number of Suspected Entities']\n",
    "mean  = number_suspects.mean()\n",
    "std_dev = number_suspects.std()\n",
    "x_values = np.linspace(number_suspects.min(), number_suspects.max(), 1000)\n",
    "pdf = (1 / (std_dev * np.sqrt(2 * np.pi))) * np.exp(-np.power(x_values - mean, 2) / (2 * np.power(std_dev, 2)))\n",
    "plt.plot(x_values, pdf, color='blue', label='PDF')\n",
    "plt.axvline(x=mean, color='red', linestyle='solid')\n",
    "plt.text(mean, -0.001, f'Mean = {mean:.2f}', fontsize=9)\n",
    "plt.xlabel('Number of Linked Entities')\n",
    "plt.ylabel('Probability Density')\n",
    "plt.title('Bell Curve Plot')\n",
    "plt.show()\n"
   ]
  },
  {
   "cell_type": "code",
   "execution_count": 7,
   "metadata": {},
   "outputs": [
    {
     "data": {
      "image/png": "[encoded data removed]",
      "text/plain": [
       "<Figure size 432x288 with 1 Axes>"
      ]
     },
     "metadata": {
      "needs_background": "light"
     },
     "output_type": "display_data"
    }
   ],
   "source": [
    "number_suspects = df['Number of Suspected Entities']\n",
    "mean  = number_suspects.mean()\n",
    "std = number_suspects.std()\n",
    "\n",
    "x = np.linspace(mean - 3*std, mean + 3*std, 100)\n",
    "y = 1/(std * np.sqrt(2 * np.pi)) * np.exp(-(x - mean)**2 / (2 * std**2))\n",
    "\n",
    "fig, ax = plt.subplots()\n",
    "ax.hist(number_suspects, bins=8, density=True, alpha=0.5)\n",
    "plt.axvline(x=mean, color='red', linestyle='dotted')\n",
    "plt.text(mean, 0.18, f'Mean = {mean:.2f}', fontsize=9)\n",
    "ax.plot(x, y, color='red')\n",
    "ax.set_xlabel('Values')\n",
    "ax.set_ylabel('Frequency')\n",
    "ax.set_title('Distribution of Values')\n",
    "plt.show()"
   ]
  },
  {
   "attachments": {},
   "cell_type": "markdown",
   "metadata": {},
   "source": [
    "## Distribution of entities"
   ]
  },
  {
   "attachments": {},
   "cell_type": "markdown",
   "metadata": {},
   "source": [
    "There are 640 linked entiies and companies that have links are based in 40 countries. The 10 most common countries where an entitiy with suspected links is based are: \n",
    "1. UAE\n",
    "2. Hong Kong\n",
    "3. UK\n",
    "4. China\n",
    "5. Turkey\n",
    "6. Germany\n",
    "7. Malaysia\n",
    "8. Russia\n",
    "9. Lebanon\n",
    "10. Afghanistan\n",
    "\n",
    "This suggests that Iranian companies based outside Iran are more likely to have links to  other entities than companies based inside Iran."
   ]
  },
  {
   "cell_type": "code",
   "execution_count": 8,
   "metadata": {},
   "outputs": [
    {
     "name": "stdout",
     "output_type": "stream",
     "text": [
      "                 Country  Number of Suspected Entities\n",
      "36  United Arab Emirates                            89\n",
      "12             Hong Kong                            65\n",
      "37        United Kingdom                            61\n",
      "7                  China                            53\n",
      "35                Turkey                            48\n",
      "11               Germany                            34\n",
      "18              Malaysia                            31\n",
      "26                Russia                            27\n",
      "17               Lebanon                            22\n",
      "0            Afghanistan                            19\n"
     ]
    }
   ],
   "source": [
    "Country = df\n",
    "Country = df[['Country', 'Number of Suspected Entities']]\n",
    "Country = Country.explode('Country')\n",
    "Country= Country[Country['Country'] !='NA']  \n",
    "Country= Country[Country['Number of Suspected Entities'] != 0]  \n",
    "Country = Country.groupby('Country', as_index=False).sum()\n",
    "Country = Country.sort_values('Number of Suspected Entities', ascending=False)\n",
    "\n",
    "\n",
    "print(Country.nlargest(10, 'Number of Suspected Entities'))\n",
    "\n"
   ]
  },
  {
   "cell_type": "code",
   "execution_count": 9,
   "metadata": {},
   "outputs": [
    {
     "data": {
      "image/png": "[encoded data removed]",
      "text/plain": [
       "<Figure size 1440x360 with 1 Axes>"
      ]
     },
     "metadata": {
      "needs_background": "light"
     },
     "output_type": "display_data"
    }
   ],
   "source": [
    "\n",
    "plt.figure(figsize=(20,5))\n",
    "plt.bar(Country['Country'], Country['Number of Suspected Entities'])\n",
    "\n",
    "plt.xticks(rotation='vertical')\n",
    "plt.show()\n"
   ]
  },
  {
   "cell_type": "code",
   "execution_count": null,
   "metadata": {},
   "outputs": [],
   "source": []
  }
 ],
 "metadata": {
  "kernelspec": {
   "display_name": "env",
   "language": "python",
   "name": "python3"
  },
  "language_info": {
   "codemirror_mode": {
    "name": "ipython",
    "version": 3
   },
   "file_extension": ".py",
   "mimetype": "text/x-python",
   "name": "python",
   "nbconvert_exporter": "python",
   "pygments_lexer": "ipython3",
   "version": "3.10.7"
  },
  "orig_nbformat": 4
 },
 "nbformat": 4,
 "nbformat_minor": 2
}
